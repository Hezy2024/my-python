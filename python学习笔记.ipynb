{
 "cells": [
  {
   "cell_type": "markdown",
   "id": "bb89eff9",
   "metadata": {},
   "source": [
    "知识点一：\n",
    "在小整数范围内（-5到256）在一个小整数对象池中，重复的对象共用一个内存。"
   ]
  },
  {
   "cell_type": "code",
   "execution_count": 1,
   "id": "35534097",
   "metadata": {},
   "outputs": [
    {
     "name": "stdout",
     "output_type": "stream",
     "text": [
      "1936285920\n",
      "1936285920\n",
      "1936285920\n",
      "1791784787888\n",
      "1791784787888\n",
      "1791784787472\n"
     ]
    }
   ],
   "source": [
    "a=b=1;\n",
    "print(id(a));\n",
    "print(id(b));\n",
    "print(id(1));\n",
    "a=b=1000;\n",
    "print(id(a));\n",
    "print(id(b));\n",
    "print(id(1000));"
   ]
  },
  {
   "cell_type": "markdown",
   "id": "2fb4a6a3",
   "metadata": {},
   "source": [
    "知识点二：\n",
    "序列赋值及相关操作(操作符+*可以直接作用于序列，相较于C或C++方便了一些）"
   ]
  },
  {
   "cell_type": "code",
   "execution_count": 1,
   "id": "7e4eea07",
   "metadata": {},
   "outputs": [
    {
     "name": "stdout",
     "output_type": "stream",
     "text": [
      "a\n",
      "b\n",
      "4\n",
      "2\n",
      "1\n",
      "[2, 3]\n",
      "acd\n"
     ]
    }
   ],
   "source": [
    "x,y=\"ab\"\n",
    "print(x)\n",
    "print(y)\n",
    "a=2\n",
    "b=4\n",
    "a,b=b,a\n",
    "print(a)\n",
    "print(b)\n",
    "i,*j=[1,2,3]\n",
    "print(i)\n",
    "print(j)\n",
    "m='cd'\n",
    "print(x+m)"
   ]
  },
  {
   "cell_type": "markdown",
   "id": "d2d3a0e7",
   "metadata": {},
   "source": [
    "知识点三：format函数(以下代码里的0,1分别代表函数中的参数）"
   ]
  },
  {
   "cell_type": "code",
   "execution_count": 4,
   "id": "238b3045",
   "metadata": {},
   "outputs": [
    {
     "name": "stdout",
     "output_type": "stream",
     "text": [
      "3.14 10.00\n",
      "10.00 10.00\n"
     ]
    }
   ],
   "source": [
    "x=3.1415\n",
    "y=9.9999\n",
    "print(\"{0:.2f} {1:.2f}\".format(x,y))\n",
    "print(\"{1:.2f} {1:.2f}\".format(x,y))"
   ]
  },
  {
   "cell_type": "code",
   "execution_count": 8,
   "id": "b03382e1",
   "metadata": {},
   "outputs": [
    {
     "name": "stdout",
     "output_type": "stream",
     "text": [
      "<class 'str'>\n",
      "True\n",
      "False\n",
      "True\n"
     ]
    }
   ],
   "source": [
    "str_1='Hello'\n",
    "print(type(str_1))\n",
    "print(isinstance(str_1,str))\n",
    "print(isinstance(str_1,int))\n",
    "print(isinstance(str_1,(int,str)))"
   ]
  },
  {
   "cell_type": "markdown",
   "id": "dba02bff",
   "metadata": {},
   "source": [
    "知识点四：列表生成数据并赋值"
   ]
  },
  {
   "cell_type": "code",
   "execution_count": 3,
   "id": "7cb7a9be",
   "metadata": {},
   "outputs": [
    {
     "name": "stdout",
     "output_type": "stream",
     "text": [
      "10\n",
      "0.380\n"
     ]
    }
   ],
   "source": [
    "n=int(input())\n",
    "alist=[i/(2*i-1) if i%2==1 else -i/(2*i-1) for i in range(1,n+1)]\n",
    "result=sum(alist)\n",
    "print(\"{:.3f}\".format(result))"
   ]
  },
  {
   "cell_type": "markdown",
   "id": "2f06801d",
   "metadata": {},
   "source": [
    "知识点五：序列中取单个元素，直接取，字符串可以看成单个元素组成的列表，可以直接使用下表选取"
   ]
  },
  {
   "cell_type": "code",
   "execution_count": 1,
   "id": "2dae52c7",
   "metadata": {},
   "outputs": [
    {
     "name": "stdout",
     "output_type": "stream",
     "text": [
      "s\n"
     ]
    },
    {
     "data": {
      "text/plain": [
       "'4'"
      ]
     },
     "execution_count": 1,
     "metadata": {},
     "output_type": "execute_result"
    }
   ],
   "source": [
    "print('this is a string'[6])\n",
    "'12344'[4]"
   ]
  },
  {
   "cell_type": "markdown",
   "id": "c4a90b9d",
   "metadata": {},
   "source": [
    "知识点六：字符串和列表切片（取前、取中、取后）"
   ]
  },
  {
   "cell_type": "code",
   "execution_count": 7,
   "id": "5d1eb0b5",
   "metadata": {
    "scrolled": true
   },
   "outputs": [
    {
     "name": "stdout",
     "output_type": "stream",
     "text": [
      "20041217\n",
      "18\n",
      "16\n",
      "168\n"
     ]
    }
   ],
   "source": [
    "print('342423200412174190'[6:14])#以数字的左边为分界线\n",
    "print('18F'[0:-1])#表示除了最后一位（这里的0也可以省略）\n",
    "print('168F'[0:-2])#表示除了最后两位（负数表示从右边开始算起）\n",
    "print('C168'[1:])#从第一位到最后"
   ]
  },
  {
   "cell_type": "markdown",
   "id": "d55c739c",
   "metadata": {},
   "source": [
    "知识点七：字符串函数的操作都不是直接对 . 左边的字符串进行改变，都是赋予一个新的字符串具有改变后的性质(也就是原字符串不改变)"
   ]
  },
  {
   "cell_type": "code",
   "execution_count": 11,
   "id": "6a5bbc41",
   "metadata": {},
   "outputs": [
    {
     "data": {
      "text/plain": [
       "True"
      ]
     },
     "execution_count": 11,
     "metadata": {},
     "output_type": "execute_result"
    }
   ],
   "source": [
    "s='hello'\n",
    "'he' in s"
   ]
  },
  {
   "cell_type": "code",
   "execution_count": 14,
   "id": "a882e057",
   "metadata": {},
   "outputs": [
    {
     "data": {
      "text/plain": [
       "False"
      ]
     },
     "execution_count": 14,
     "metadata": {},
     "output_type": "execute_result"
    }
   ],
   "source": [
    "'oo' in s"
   ]
  },
  {
   "cell_type": "code",
   "execution_count": 15,
   "id": "8a1a86d8",
   "metadata": {},
   "outputs": [
    {
     "data": {
      "text/plain": [
       "2"
      ]
     },
     "execution_count": 15,
     "metadata": {},
     "output_type": "execute_result"
    }
   ],
   "source": [
    "#find/count/lower/strip/replace函数\n",
    "s.find('l')"
   ]
  },
  {
   "cell_type": "code",
   "execution_count": 16,
   "id": "de04a046",
   "metadata": {},
   "outputs": [
    {
     "data": {
      "text/plain": [
       "3"
      ]
     },
     "execution_count": 16,
     "metadata": {},
     "output_type": "execute_result"
    }
   ],
   "source": [
    "s.find('l',3)#表示从第三位开始找"
   ]
  },
  {
   "cell_type": "code",
   "execution_count": 17,
   "id": "9e294024",
   "metadata": {},
   "outputs": [
    {
     "data": {
      "text/plain": [
       "2"
      ]
     },
     "execution_count": 17,
     "metadata": {},
     "output_type": "execute_result"
    }
   ],
   "source": [
    "s.count('l')"
   ]
  },
  {
   "cell_type": "code",
   "execution_count": 19,
   "id": "315dc22f",
   "metadata": {},
   "outputs": [
    {
     "data": {
      "text/plain": [
       "'hello'"
      ]
     },
     "execution_count": 19,
     "metadata": {},
     "output_type": "execute_result"
    }
   ],
   "source": [
    "s.lower()#变小写"
   ]
  },
  {
   "cell_type": "code",
   "execution_count": 20,
   "id": "4c95cd56",
   "metadata": {},
   "outputs": [
    {
     "data": {
      "text/plain": [
       "'HELLO'"
      ]
     },
     "execution_count": 20,
     "metadata": {},
     "output_type": "execute_result"
    }
   ],
   "source": [
    "s.upper()#变大写"
   ]
  },
  {
   "cell_type": "code",
   "execution_count": 21,
   "id": "a2ec1e61",
   "metadata": {},
   "outputs": [
    {
     "data": {
      "text/plain": [
       "'hello world'"
      ]
     },
     "execution_count": 21,
     "metadata": {},
     "output_type": "execute_result"
    }
   ],
   "source": [
    "s1=' hello world '#前中后各有一个空格\n",
    "s1.strip()#去除两边的空格"
   ]
  },
  {
   "cell_type": "code",
   "execution_count": 22,
   "id": "12a7d1c8",
   "metadata": {},
   "outputs": [
    {
     "data": {
      "text/plain": [
       "' hello world'"
      ]
     },
     "execution_count": 22,
     "metadata": {},
     "output_type": "execute_result"
    }
   ],
   "source": [
    "s1.rstrip()#去除右边的空格"
   ]
  },
  {
   "cell_type": "code",
   "execution_count": 23,
   "id": "4b37c898",
   "metadata": {},
   "outputs": [
    {
     "data": {
      "text/plain": [
       "'hello world '"
      ]
     },
     "execution_count": 23,
     "metadata": {},
     "output_type": "execute_result"
    }
   ],
   "source": [
    "s1.lstrip()#去除左边的空格"
   ]
  },
  {
   "cell_type": "code",
   "execution_count": 24,
   "id": "5e85740c",
   "metadata": {},
   "outputs": [
    {
     "data": {
      "text/plain": [
       "'-hello-world-'"
      ]
     },
     "execution_count": 24,
     "metadata": {},
     "output_type": "execute_result"
    }
   ],
   "source": [
    "s1.replace(' ','-')"
   ]
  },
  {
   "cell_type": "markdown",
   "id": "20c7dc02",
   "metadata": {},
   "source": [
    "知识点八：列表的使用（关于列表的管理与创建）"
   ]
  },
  {
   "cell_type": "code",
   "execution_count": 40,
   "id": "91747635",
   "metadata": {},
   "outputs": [
    {
     "name": "stdout",
     "output_type": "stream",
     "text": [
      "[0, 2, 3, 4, 5]\n",
      "[1, 2, 3, 4, 5]\n"
     ]
    }
   ],
   "source": [
    "t1=[1,2,3,4,5]\n",
    "t2=t1\n",
    "t2[0]=0\n",
    "print(t1)#可以看到结果里的t1也改变了，这是应该t2=t1并没有创建一个新的列表，而是将t1的管理权赋予t2，如果想新建一个列表，可以采用切片的方式：\n",
    "t2=t1[:]\n",
    "t2[0]=1\n",
    "print(t2)"
   ]
  },
  {
   "cell_type": "markdown",
   "id": "b5415b32",
   "metadata": {},
   "source": [
    "切片的使用还可以对列表进行插入和删除"
   ]
  },
  {
   "cell_type": "code",
   "execution_count": 41,
   "id": "2ce6fceb",
   "metadata": {},
   "outputs": [
    {
     "name": "stdout",
     "output_type": "stream",
     "text": [
      "[0, 2, 3, 6, 4, 5]\n",
      "[0, 6, 4, 5]\n"
     ]
    }
   ],
   "source": [
    "t1[1:3]=[2,3,6]\n",
    "print(t1)#在第三位添加了6\n",
    "t1[1:3]=[]\n",
    "print(t1)#【1:3】的被删去\n",
    "del t1[1]#del函数也可以用来删除列表中的数据"
   ]
  },
  {
   "cell_type": "markdown",
   "id": "395201df",
   "metadata": {},
   "source": [
    "列表的函数使用"
   ]
  },
  {
   "cell_type": "code",
   "execution_count": null,
   "id": "2f24e491",
   "metadata": {},
   "outputs": [],
   "source": [
    "t1=[1,2,3,4,5,6,7,8,9]\n",
    "t1. append(5)#append函数只在末尾添加一个元素（这个元素可以是一个数字，也可以是一个新的列表）\n",
    "print(t1)\n",
    "t1.extend([7,8,9])#extend函数在末尾添加多个元素，一般是添加多个数字\n",
    "t1.insert(1,9)#insert函数（插入位置，插入内容），这里表示在第一位（左边）插入9\n",
    "t2.append([4,5])\n",
    "print(t2)\n",
    "t2.extend([6,7])\n",
    "print(t2)\n",
    "t1.insert(0,-1)\n",
    "t2.insert(100,-1)#这里的插入位置明显大于列表长度，默认插在最后面\n",
    "t2.remove(2)#remove函数删除值为2的数据\n",
    "t2. pop()#返回值是删除的数据，默认删除最后一位\n",
    "print(t2.pop())\n",
    "print(t2.pop(2))#指定删除第二位\n",
    "t2. reverse()#逆转列表的顺序\n",
    "print(t1.index(9))#index函数查找某个元素在列表中的位置"
   ]
  },
  {
   "cell_type": "markdown",
   "id": "65c73d73",
   "metadata": {},
   "source": [
    "列表和字符串的转化（join法列表变字符串、split法字符串变列表）"
   ]
  },
  {
   "cell_type": "code",
   "execution_count": 5,
   "id": "6f04cee1",
   "metadata": {},
   "outputs": [
    {
     "name": "stdout",
     "output_type": "stream",
     "text": [
      "['this', 'is', 'a', 'test']\n",
      "['thi', ' i', ' a te', 't']\n",
      "['t', 'h', 'i', 's', ' ', 'i', 's', ' ', 'a', ' ', 't', 'e', 's', 't']\n"
     ]
    },
    {
     "data": {
      "text/plain": [
       "'this   is   a   test'"
      ]
     },
     "execution_count": 5,
     "metadata": {},
     "output_type": "execute_result"
    }
   ],
   "source": [
    "s='this is a test'\n",
    "t=s.split()#默认以空格、换行符、tab等为分割依据，形成一个列表\n",
    "print(t)\n",
    "print(s.split('s'))#这里是以‘s’为依据\n",
    "print(list(s))#逐个拆开\n",
    "'   '.join(t)#这里可能不好理解，意思就是把‘   ’加入到列表t中并形成一个字符串"
   ]
  },
  {
   "cell_type": "markdown",
   "id": "4ee65af8",
   "metadata": {},
   "source": [
    "知识点九：元组（只读不改、还有同时获取多个值）"
   ]
  },
  {
   "cell_type": "markdown",
   "id": "c3d21aab",
   "metadata": {},
   "source": [
    "知识点十：python随机模块（random.shuffle、random.choice、random.random）"
   ]
  },
  {
   "cell_type": "code",
   "execution_count": 12,
   "id": "81eaa749",
   "metadata": {},
   "outputs": [
    {
     "name": "stdout",
     "output_type": "stream",
     "text": [
      "[1, 3, 4, 5, 2]\n",
      "5\n",
      "0.9182343317851318\n",
      "39\n"
     ]
    }
   ],
   "source": [
    "t=[5,4,3,2,1]\n",
    "import random\n",
    "random.shuffle(t)#随机排列\n",
    "print(t)\n",
    "print(random.choice(t))#从t中随机抽一个\n",
    "print(random.random())#这个是在0~1之间的随机浮点数\n",
    "print(random.randint(1,100))#这个是规定在0~100之间的整数"
   ]
  },
  {
   "cell_type": "markdown",
   "id": "a3261be2",
   "metadata": {},
   "source": [
    "sort函数的返回值是NULL（只排序，不传递）"
   ]
  },
  {
   "cell_type": "markdown",
   "id": "eba7ac22",
   "metadata": {},
   "source": [
    "知识点11：条件语句（if、else没啥好说的，elif是为了避免代码缩进，遇见别蒙）"
   ]
  },
  {
   "cell_type": "markdown",
   "id": "d2ce5f18",
   "metadata": {},
   "source": [
    "知识点12：集合"
   ]
  },
  {
   "cell_type": "markdown",
   "id": "7be6e573",
   "metadata": {},
   "source": [
    "集合用{ }表示，不可取下标、不可重复，可以遍历，可以进行集合间的运算。"
   ]
  },
  {
   "cell_type": "code",
   "execution_count": 2,
   "id": "eb9290e1",
   "metadata": {},
   "outputs": [
    {
     "data": {
      "text/plain": [
       "{1, 2, 3, 4, 5, 6, 7, 8}"
      ]
     },
     "execution_count": 2,
     "metadata": {},
     "output_type": "execute_result"
    }
   ],
   "source": [
    "s1={1,2,3,4,5}\n",
    "s2={2,4,6,7,8}\n",
    "s1|s2#并集"
   ]
  },
  {
   "cell_type": "code",
   "execution_count": 3,
   "id": "70a0fac0",
   "metadata": {},
   "outputs": [
    {
     "data": {
      "text/plain": [
       "{1, 3, 5, 6, 7, 8}"
      ]
     },
     "execution_count": 3,
     "metadata": {},
     "output_type": "execute_result"
    }
   ],
   "source": [
    "s1^s2#对称差"
   ]
  },
  {
   "cell_type": "code",
   "execution_count": 4,
   "id": "c80f0583",
   "metadata": {},
   "outputs": [
    {
     "data": {
      "text/plain": [
       "{2, 4}"
      ]
     },
     "execution_count": 4,
     "metadata": {},
     "output_type": "execute_result"
    }
   ],
   "source": [
    "s1&s2#交集"
   ]
  },
  {
   "cell_type": "code",
   "execution_count": 5,
   "id": "30c7468f",
   "metadata": {},
   "outputs": [
    {
     "data": {
      "text/plain": [
       "{1, 3, 5}"
      ]
     },
     "execution_count": 5,
     "metadata": {},
     "output_type": "execute_result"
    }
   ],
   "source": [
    "s1-s2"
   ]
  },
  {
   "cell_type": "markdown",
   "id": "94c93962",
   "metadata": {},
   "source": [
    "知识点13：字典(每一个key对应着一个值）"
   ]
  },
  {
   "cell_type": "code",
   "execution_count": 8,
   "id": "6201019d",
   "metadata": {},
   "outputs": [
    {
     "data": {
      "text/plain": [
       "{'one': 1, 'two': 2, 'three': 3}"
      ]
     },
     "execution_count": 8,
     "metadata": {},
     "output_type": "execute_result"
    }
   ],
   "source": [
    "t={'one':1,'two':2,'three':3}\n",
    "t"
   ]
  },
  {
   "cell_type": "code",
   "execution_count": 9,
   "id": "d2856370",
   "metadata": {},
   "outputs": [
    {
     "data": {
      "text/plain": [
       "{'one': 1, 'three': 3}"
      ]
     },
     "execution_count": 9,
     "metadata": {},
     "output_type": "execute_result"
    }
   ],
   "source": [
    "#删除、添加和修改\n",
    "del t['two']\n",
    "t"
   ]
  },
  {
   "cell_type": "code",
   "execution_count": 10,
   "id": "dc94c980",
   "metadata": {},
   "outputs": [
    {
     "data": {
      "text/plain": [
       "{'one': 1, 'three': 3, 'four': 4}"
      ]
     },
     "execution_count": 10,
     "metadata": {},
     "output_type": "execute_result"
    }
   ],
   "source": [
    "t['four']=4\n",
    "t"
   ]
  },
  {
   "cell_type": "code",
   "execution_count": 11,
   "id": "22cb866c",
   "metadata": {},
   "outputs": [
    {
     "data": {
      "text/plain": [
       "{'one': 1, 'three': 3, 'four': 5}"
      ]
     },
     "execution_count": 11,
     "metadata": {},
     "output_type": "execute_result"
    }
   ],
   "source": [
    "t['four']=5\n",
    "t"
   ]
  },
  {
   "cell_type": "markdown",
   "id": "ccaecd96",
   "metadata": {},
   "source": [
    "在遍历操作中，遍历的内容应该是key"
   ]
  },
  {
   "cell_type": "code",
   "execution_count": 13,
   "id": "f2e0b717",
   "metadata": {},
   "outputs": [
    {
     "name": "stdout",
     "output_type": "stream",
     "text": [
      "one\n",
      "1\n",
      "three\n",
      "3\n",
      "four\n",
      "5\n"
     ]
    }
   ],
   "source": [
    "for name in t:\n",
    "    print(name)\n",
    "    print(t[name])"
   ]
  },
  {
   "cell_type": "markdown",
   "id": "b456409e",
   "metadata": {},
   "source": [
    "知识点14：函数"
   ]
  },
  {
   "cell_type": "markdown",
   "id": "7428248b",
   "metadata": {},
   "source": [
    "#创建函数的基本案例：\n",
    "def greet_user():\n",
    "    print(\"Hello!\")\n",
    "    \n",
    "greet_user()"
   ]
  },
  {
   "cell_type": "markdown",
   "id": "717357f5",
   "metadata": {},
   "source": [
    "向函数传递信息"
   ]
  },
  {
   "cell_type": "code",
   "execution_count": 11,
   "id": "7475d33a",
   "metadata": {},
   "outputs": [
    {
     "name": "stdout",
     "output_type": "stream",
     "text": [
      "Hello,Jesse!\n"
     ]
    }
   ],
   "source": [
    "def greet_user(username):\n",
    "    print(\"Hello,\"+username.title()+\"!\")\n",
    "    \n",
    "greet_user('jesse')"
   ]
  },
  {
   "cell_type": "markdown",
   "id": "b159dcb0",
   "metadata": {},
   "source": [
    "鉴于函数定义中可能包含多个形参，因此函数调用中也可能包含多个实参。向函数传递实参的方式有很多，可使用位置实参，这要求实参与形参的顺序相同；也可以使用关键字实参，其中的每个实参都由变量名和值组成；还可以使用列表和字典"
   ]
  },
  {
   "cell_type": "code",
   "execution_count": 13,
   "id": "f3af7a8b",
   "metadata": {},
   "outputs": [
    {
     "name": "stdout",
     "output_type": "stream",
     "text": [
      "\n",
      "I have a hamster.\n",
      "My hamster's name is Harry.\n"
     ]
    }
   ],
   "source": [
    "#位置实参就不做案列解释，就是简单的对应\n",
    "#关键字实参：（在调用函数时，明确的指出每个形参对应的实参）\n",
    "def describe_pet(animal_type, pet_name):\n",
    "    print(\"\\nI have a \"+ animal_type+\".\")\n",
    "    print(\"My \"+animal_type+\"'s name is \" +pet_name.title()+\".\")\n",
    "    \n",
    "describe_pet(animal_type='hamster',pet_name='harry')\n",
    "#默认值类似于C，在形参列表中要先列出没有默认值的形参，再列出有默认值的实参。\n",
    "#函数的调用还是非常灵活的，实参形参有对应的就行"
   ]
  },
  {
   "cell_type": "markdown",
   "id": "82631007",
   "metadata": {},
   "source": [
    "让实变成可选的：将可选的形参指定一个默认值——空字符串，并在用户没有提供该实参时不使用这个形参（带默认值的形参移到列表末尾）"
   ]
  },
  {
   "cell_type": "markdown",
   "id": "a4648991",
   "metadata": {},
   "source": [
    "返回字典（函数不仅可以返回字典，还可以返回列表）"
   ]
  },
  {
   "cell_type": "code",
   "execution_count": 19,
   "id": "15d56ec7",
   "metadata": {},
   "outputs": [
    {
     "name": "stdout",
     "output_type": "stream",
     "text": [
      "{'first': 'jimi', 'last': 'hendrix'}\n",
      "{'first': 'jimi', 'last': 'hendrix', 'age': 25}\n"
     ]
    }
   ],
   "source": [
    "def build_person(first_name, last_name):\n",
    "    person={'first':first_name, 'last':last_name}\n",
    "    return person\n",
    "\n",
    "musician = build_person('jimi','hendrix')\n",
    "print(musician)\n",
    "#我们还可以增加一些可选形参\n",
    "def build_person(first_name, last_name, age=''):\n",
    "    person={'first':first_name, 'last':last_name}\n",
    "    if age:\n",
    "        person['age']=age\n",
    "    return person\n",
    "\n",
    "musician = build_person('jimi','hendrix',age=25)\n",
    "print(musician)"
   ]
  },
  {
   "cell_type": "markdown",
   "id": "d9a62db6",
   "metadata": {},
   "source": [
    "函数与while结合使用，包括函数的递归是解决很多问题的方法"
   ]
  },
  {
   "cell_type": "markdown",
   "id": "f9c2674e",
   "metadata": {},
   "source": [
    "函数中传递列表：（函数中对列表进行的修改都是永久性的）"
   ]
  },
  {
   "cell_type": "code",
   "execution_count": 23,
   "id": "9c1e0205",
   "metadata": {},
   "outputs": [
    {
     "name": "stdout",
     "output_type": "stream",
     "text": [
      "Printing model: dodecahedron\n",
      "Printing model: robot pedant\n",
      "Printing model: iphone case\n",
      "\n",
      "The following models have been printed:\n",
      "dodecahedron\n",
      "robot pedant\n",
      "iphone case\n"
     ]
    }
   ],
   "source": [
    "#案例：\n",
    "def print_models(unprinted_designs,completed_models):\n",
    "    while unprinted_designs:\n",
    "        current_design=unprinted_designs.pop()\n",
    "        \n",
    "        print(\"Printing model: \"+current_design)\n",
    "        completed_models.append(current_design)\n",
    "        \n",
    "def show_completed_models(completed_models):\n",
    "    print(\"\\nThe following models have been printed:\")\n",
    "    for completed_model in completed_models:\n",
    "        print(completed_model)\n",
    "        \n",
    "unprinted_designs=['iphone case','robot pedant','dodecahedron']\n",
    "completed_models=[]\n",
    "\n",
    "print_models(unprinted_designs,completed_models)\n",
    "show_completed_models(completed_models)"
   ]
  },
  {
   "cell_type": "markdown",
   "id": "af7e0d29",
   "metadata": {},
   "source": [
    "我们还可以避免在函数中修改列表：\n",
    "使用切片表示法[:]创建列表的副本，function_name(list_name[:])"
   ]
  },
  {
   "cell_type": "code",
   "execution_count": 24,
   "id": "8d2f51ac",
   "metadata": {},
   "outputs": [],
   "source": [
    "print_models(unprinted_designs[:],completed_models)"
   ]
  },
  {
   "cell_type": "markdown",
   "id": "bf6aafee",
   "metadata": {},
   "source": [
    "传递任意数量的实参（形参名前加*让python创建了一个空元组，将收到的所有值都封装到这个元组中）"
   ]
  },
  {
   "cell_type": "code",
   "execution_count": 26,
   "id": "4343f721",
   "metadata": {},
   "outputs": [
    {
     "name": "stdout",
     "output_type": "stream",
     "text": [
      "- papperoni\n",
      "- m\n",
      "- a\n",
      "- g\n"
     ]
    }
   ],
   "source": [
    "def make_pizza(*toppings):\n",
    "    for topping in toppings:\n",
    "        print(\"- \"+topping)\n",
    "        \n",
    "make_pizza('papperoni')\n",
    "make_pizza('m','a','g')\n",
    "#当然，任意数量的实参也可以与普通形参一起出现"
   ]
  },
  {
   "cell_type": "markdown",
   "id": "577369f6",
   "metadata": {},
   "source": [
    "有时候预先我们不知道传递给函数的会是什么样的信息。这种情况下，可将函数编写成能够接受任意数量的键-值对。"
   ]
  },
  {
   "cell_type": "code",
   "execution_count": 29,
   "id": "2c74fc81",
   "metadata": {},
   "outputs": [
    {
     "name": "stdout",
     "output_type": "stream",
     "text": [
      "{'first_name': 'albert', 'last_name': 'einstein', 'location': 'princeton', 'filed': 'physics'}\n"
     ]
    }
   ],
   "source": [
    "def build_profile(first,last,**user_info):\n",
    "    profile={}\n",
    "    profile['first_name']=first\n",
    "    profile['last_name']=last\n",
    "    for key,value in user_info.items():\n",
    "        profile[key]=value\n",
    "    return profile\n",
    "\n",
    "user_profile=build_profile('albert','einstein',location='princeton',filed='physics')\n",
    "print(user_profile)\n",
    "#形参**user_info中的两个星号让python创建了一个名为user_info的空字典，并将所有收到的名称——值对都封装到这个字典中"
   ]
  },
  {
   "cell_type": "markdown",
   "id": "e361de17",
   "metadata": {},
   "source": [
    "知识点15：模板（记住import/as）"
   ]
  },
  {
   "cell_type": "code",
   "execution_count": null,
   "id": "3c986b81",
   "metadata": {},
   "outputs": [],
   "source": [
    "import numpy #导入模块\n",
    "from numpy import sss #从模板中导入特定的函数\n",
    "from numpy import sss as s #使用as给指定的函数重命名，这样可以避免与这个程序可能包含的函数sss（）混淆\n",
    "import numpy as np #对模板重命名"
   ]
  },
  {
   "cell_type": "markdown",
   "id": "a339efde",
   "metadata": {},
   "source": [
    "知识点16：类（类方法的self名称相当于C中的this指针）"
   ]
  },
  {
   "cell_type": "code",
   "execution_count": 32,
   "id": "2a645db5",
   "metadata": {},
   "outputs": [
    {
     "name": "stdout",
     "output_type": "stream",
     "text": [
      "<__main__.Person object at 0x000002689EF8F908>\n"
     ]
    }
   ],
   "source": [
    "class Person:\n",
    "    pass#空的代码块\n",
    "p=Person()\n",
    "print(p)#结果说明在Person类的_main_模板中拥有了一个实例"
   ]
  },
  {
   "cell_type": "markdown",
   "id": "53eb5dfe",
   "metadata": {},
   "source": [
    "self参数在所有的方法声明中都存在，并且必须是第一个参数。这个参数代表实例对象本身，让实例能够访问类中的属性和方法（以self为前缀的变量都可供类中 的所有方法使用）"
   ]
  },
  {
   "cell_type": "markdown",
   "id": "0f6c6eb1",
   "metadata": {},
   "source": [
    "_init_方法是对目标对象进行初始化操作（有点像构造函数）"
   ]
  },
  {
   "cell_type": "code",
   "execution_count": 33,
   "id": "1cae9c15",
   "metadata": {},
   "outputs": [],
   "source": [
    "class Person:\n",
    "    def __init__(self,name):\n",
    "        self.name=name\n",
    "        \n",
    "    def say_hi(self):\n",
    "        print('Hello, my name is ',self.name)"
   ]
  },
  {
   "cell_type": "markdown",
   "id": "254b8227",
   "metadata": {},
   "source": [
    "self.name意味着在对象里有一个name属性，而另一个name是一个局部变量。"
   ]
  },
  {
   "cell_type": "markdown",
   "id": "2784b12c",
   "metadata": {},
   "source": [
    "知识点17:继承\n",
    "子类可以通过继承覆盖父类的方法。比如子类中覆盖了_init_()方法，那么基类的_init_()就不会自动调用了，当然如果子类中没有，那么就会自动调用基类的。\n",
    "同C++一样，python也支持多继承"
   ]
  },
  {
   "cell_type": "code",
   "execution_count": 39,
   "id": "66050eea",
   "metadata": {},
   "outputs": [
    {
     "name": "stdout",
     "output_type": "stream",
     "text": [
      "(Initialized SchoolMember: Mrs.Shrividya)\n",
      "(Initialized Teacher:Mrs.Shrividya)\n",
      "(Initialized SchoolMember: Swaroop)\n",
      "(Initialized Student:Swaroop)\n",
      "\n",
      "Name:\"Mrs.Shrividya\" Age:\"40\" Salary: :\"30000\"\n",
      "Name:\"Swaroop\" Age:\"25\" Marks: \"75\"\n"
     ]
    }
   ],
   "source": [
    "class SchoolMember:\n",
    "    def __init__(self, name, age):\n",
    "        self.name = name\n",
    "        self.age = age\n",
    "        print('(Initialized SchoolMember: {})'.format(self.name))\n",
    "\n",
    "    def tell(self):\n",
    "        print('Name:\"{}\" Age:\"{}\"'.format(self.name, self.age), end=\" \")#end=“ ”目的是打印一行后不自动换行\n",
    "\n",
    "\n",
    "class Teacher(SchoolMember):\n",
    "    def __init__(self, name, age, salary):\n",
    "        SchoolMember.__init__(self, name, age)\n",
    "        self.salary = salary\n",
    "        print('(Initialized Teacher:{})'.format(self.name))\n",
    "\n",
    "    def tell(self):\n",
    "        SchoolMember.tell(self)\n",
    "        print('Salary: :\"{:d}\"'.format(self.salary))\n",
    "\n",
    "\n",
    "class Student(SchoolMember):\n",
    "    def __init__(self, name, age, marks):\n",
    "        SchoolMember.__init__(self, name, age)\n",
    "        self.marks = marks\n",
    "        print('(Initialized Student:{})'.format(self.name))\n",
    "\n",
    "    def tell(self):\n",
    "        SchoolMember.tell(self)\n",
    "        print('Marks: \"{:d}\"'.format(self.marks))\n",
    "\n",
    "\n",
    "t = Teacher('Mrs.Shrividya', 40, 30000)\n",
    "s = Student('Swaroop', 25, 75)\n",
    "\n",
    "print()\n",
    "\n",
    "members = [t, s]\n",
    "for member in members:\n",
    "    member.tell()\n"
   ]
  },
  {
   "cell_type": "markdown",
   "id": "353f9a18",
   "metadata": {},
   "source": [
    "顺便提一下，从模板中导入类与导入函数差不多"
   ]
  },
  {
   "cell_type": "markdown",
   "id": "f4580238",
   "metadata": {},
   "source": [
    "知识点18：从文件中读取数据"
   ]
  },
  {
   "cell_type": "code",
   "execution_count": 4,
   "id": "e7f1c302",
   "metadata": {},
   "outputs": [
    {
     "name": "stdout",
     "output_type": "stream",
     "text": [
      "3.1415926535\n",
      " 8979323846\n",
      " 2643386279\n"
     ]
    }
   ],
   "source": [
    "with open('pi_digits.txt') as file_object:\n",
    "    contents= file_object.read()\n",
    "    print(contents)"
   ]
  },
  {
   "cell_type": "code",
   "execution_count": 6,
   "id": "8206ea58",
   "metadata": {},
   "outputs": [
    {
     "name": "stdout",
     "output_type": "stream",
     "text": [
      "3.1415926535\n",
      "\n",
      " 8979323846\n",
      "\n",
      " 2643386279\n"
     ]
    }
   ],
   "source": [
    "with open('pi_digits.txt') as file_object:\n",
    "    for line in file_object:\n",
    "        print(line)"
   ]
  },
  {
   "cell_type": "markdown",
   "id": "c4860256",
   "metadata": {},
   "source": [
    "可以看出空白行明显多一行，这是因为print函数语句自带的换行符以及文件中每行末尾的换行符"
   ]
  },
  {
   "cell_type": "code",
   "execution_count": 7,
   "id": "35c76f9b",
   "metadata": {},
   "outputs": [
    {
     "name": "stdout",
     "output_type": "stream",
     "text": [
      "3.1415926535\n",
      " 8979323846\n",
      " 2643386279\n"
     ]
    }
   ],
   "source": [
    "with open('pi_digits.txt') as file_object:\n",
    "    for line in file_object:\n",
    "        print(line.rstrip())#rstrip()删除字符串末尾的空白"
   ]
  },
  {
   "cell_type": "markdown",
   "id": "a5a1bcb9",
   "metadata": {},
   "source": [
    "使用关键字with时，open（）返回的文件对象只在with代码块内可用。如果要在with代码块外访问文件的内容，可在with代码块内将文件的各行存储在一个列表里"
   ]
  },
  {
   "cell_type": "code",
   "execution_count": 8,
   "id": "099576dd",
   "metadata": {},
   "outputs": [
    {
     "name": "stdout",
     "output_type": "stream",
     "text": [
      "3.1415926535\n",
      " 8979323846\n",
      " 2643386279\n"
     ]
    }
   ],
   "source": [
    "filename='pi_digits.txt'\n",
    "\n",
    "with open(filename) as file_object:\n",
    "    lines=file_object.readlines()\n",
    "    \n",
    "for line in lines:\n",
    "    print(line.rstrip())"
   ]
  },
  {
   "cell_type": "markdown",
   "id": "187aeba5",
   "metadata": {},
   "source": [
    "只读文件：‘t’，写入空文件：‘w’，附加内容：‘a’"
   ]
  },
  {
   "cell_type": "markdown",
   "id": "9cfcb9a1",
   "metadata": {},
   "source": [
    "知识点19：认识并处理异常\n",
    "一般程序发生异常时，程序将停止，并显示一个traceback，其中包含有关异常的报告，但是在面对用户使用时，我们一般不希望因为异常导致错误的直接呈现以及程序的崩溃。所以我们可以使用try-except-else代码块.另外，python中有一个pass语句，与except结合使用可以让出现异常时不做处理，视情况使用。"
   ]
  },
  {
   "cell_type": "code",
   "execution_count": 10,
   "id": "f4086b22",
   "metadata": {},
   "outputs": [
    {
     "name": "stdout",
     "output_type": "stream",
     "text": [
      "Give me two numbers, and I'll divide them.\n",
      "Enter 'q' to quit.\n",
      "\n",
      "First number: 5\n",
      "\n",
      "Second number: 0\n",
      "You can not divide by 0!\n",
      "\n",
      "First number: 5\n",
      "\n",
      "Second number: 2\n",
      "2.5\n",
      "\n",
      "First number: q\n"
     ]
    }
   ],
   "source": [
    "print (\"Give me two numbers, and I'll divide them.\")\n",
    "print (\"Enter 'q' to quit.\")\n",
    "\n",
    "while True:\n",
    "    first_number =input(\"\\nFirst number: \")\n",
    "    if first_number == 'q':\n",
    "        break\n",
    "    second_number=input(\"\\nSecond number: \")\n",
    "    if second_number=='q':\n",
    "        break\n",
    "    try:\n",
    "        answer=int(first_number)/int(second_number)\n",
    "    except ZeroDivisionError:\n",
    "        print(\"You can not divide by 0!\")\n",
    "    else:\n",
    "        print(answer)"
   ]
  },
  {
   "cell_type": "code",
   "execution_count": null,
   "id": "391ac828",
   "metadata": {},
   "outputs": [],
   "source": []
  }
 ],
 "metadata": {
  "kernelspec": {
   "display_name": "Python 3",
   "language": "python",
   "name": "python3"
  },
  "language_info": {
   "codemirror_mode": {
    "name": "ipython",
    "version": 3
   },
   "file_extension": ".py",
   "mimetype": "text/x-python",
   "name": "python",
   "nbconvert_exporter": "python",
   "pygments_lexer": "ipython3",
   "version": "3.6.3"
  }
 },
 "nbformat": 4,
 "nbformat_minor": 5
}
